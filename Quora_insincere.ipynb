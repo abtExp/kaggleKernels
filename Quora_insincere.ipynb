{
  "cells": [
    {
      "metadata": {
        "_cell_guid": "79c7e3d0-c299-4dcb-8224-4455121ee9b0",
        "collapsed": true,
        "_uuid": "d629ff2d2480ee46fbb7e2d37f6b5fab8052498a",
        "trusted": false
      },
      "cell_type": "markdown",
      "source": "\n# Trying Different ML Techniques for Classification.\n\n### Techniques i'll be using:\n* Naive Bayes\n* SVM\n* RNN\n* GRU\n* LSTM\n* Attention model\n\n> For Embedding and Preprocessing, i've referenced the amazing kernels listed here , Do Check Them Out: \n* <a href='https://www.kaggle.com/sudalairajkumar/a-look-at-different-embeddings'>A Look At Different Embeddings</a>\n* <a href='https://www.kaggle.com/theoviel/improve-your-score-with-some-text-preprocessing'>Improve Your Score With Some Preprocessing</a>"
    },
    {
      "metadata": {
        "_uuid": "9a81a21ae16c77e4c3a0ed1e0bb9e354e394c776"
      },
      "cell_type": "markdown",
      "source": "### First Let's Import The Libraries Needed.\n"
    },
    {
      "metadata": {
        "_uuid": "16ba7c5bbabaa639e4f2d4b85b148d6cfc8b1886"
      },
      "cell_type": "markdown",
      "source": "### A Note To Remember : Sincere = 0, Insincere = 1"
    },
    {
      "metadata": {
        "trusted": true,
        "_uuid": "b4e16173c738d2c5229f24b4df3cb1499dd431fb"
      },
      "cell_type": "code",
      "source": "# the obvious\nimport numpy as np\nimport pandas as pd\n\n# core utility modules\nfrom os import listdir, path\nimport string\nfrom collections import Counter\nimport time\nimport gc\n\n# for visualization\nimport matplotlib.pyplot as plt\nfrom wordcloud import WordCloud\n%matplotlib inline\n\n# for preprocessing and feature extraction\nimport keras.preprocessing.text as text\nimport keras.preprocessing.sequence as seq \nfrom keras.utils import to_categorical\nfrom sklearn.model_selection import train_test_split, RandomizedSearchCV\n# from sklearn.feature_extraction.text import CountVectorizer, TfidfTransformer\nfrom nltk.tokenize import word_tokenize\n# from nltk.corpus import stopwords\n# from nltk.stem import PorterStemmer\n\n# for logging and early stopping and learning rate scheduling\nfrom keras.callbacks import EarlyStopping, ModelCheckpoint, ReduceLROnPlateau, TensorBoard\n\n# for the metric (F1 Score)\nfrom sklearn.metrics import f1_score\n\n# for model creation and training\nfrom keras.models import Sequential, Model\nfrom keras.layers import Layer, Dense, Input, LSTM, Dropout, Bidirectional, CuDNNLSTM, CuDNNGRU, SimpleRNN, Embedding, GlobalMaxPool1D\nimport keras.backend as K\nfrom sklearn.svm import SVC\nfrom keras.optimizers import Adam\nfrom keras import initializers\n\n# other imports\nimport operator \nimport re",
      "execution_count": 54,
      "outputs": []
    },
    {
      "metadata": {
        "_uuid": "a4c81e3d41bd32b6658ceb0a56323fd6b6b0a072"
      },
      "cell_type": "markdown",
      "source": "### Let's Declare Some Globals"
    },
    {
      "metadata": {
        "trusted": true,
        "_uuid": "2455c66a63648dc1c089d75d0ffe798e1f9ee2e9"
      },
      "cell_type": "code",
      "source": "max_seq_len = 70 # The Max Length Of The Text Sequence\nembed_size = 300 # The Number Of Features In The Embedding For A Single Word\nmax_features = 50000 # The Maximum Number Of Words In The Vocab\nEMBEDDING = 'glove.840B.300d' # Learned Embedding To Be Used, Change This For Using Different Embeddings\nMODEL = 'attention' # The Model To Use To Classify The Insincere/Sincere Questions, Other Possible Vals Are : 'nb', 'svm', 'rnn', 'gru' and 'lstm'\nembedding_matrix = 'None' # The Embeddigns Matrix\nembeddings_idx = 'None' # The Mappings From Embedding Index To The Embedding\ncheckpoint = ModelCheckpoint('./checkpoints/', monitor='val_acc', verbose=0, save_best_only=True)\nearlystop = EarlyStopping(monitor='val_acc', min_delta=0, patience=1, verbose=0)\ntensorboard = TensorBoard(log_dir='./logs', histogram_freq=0, batch_size=32, write_graph=True, write_grads=True, write_images=True)\nreducelr = ReduceLROnPlateau(monitor='val_acc', factor=0.1, patience=3, verbose=0, mode='auto', min_delta=0.0001, cooldown=0, min_lr=0)",
      "execution_count": null,
      "outputs": []
    },
    {
      "metadata": {
        "_uuid": "b0d42d4c57f301ad33392b2d9f1b51298c24eac4"
      },
      "cell_type": "markdown",
      "source": "### Now Let's Get The Data"
    },
    {
      "metadata": {
        "trusted": true,
        "_uuid": "f7a990764f0fdd5f82a5ae3d56c561db0e3041fa"
      },
      "cell_type": "code",
      "source": "listdir('../input')",
      "execution_count": null,
      "outputs": []
    },
    {
      "metadata": {
        "trusted": true,
        "_uuid": "589f3a7b90fa9dff10f01976ed8bc3e2f0a70cd8"
      },
      "cell_type": "code",
      "source": "train_set = pd.read_csv('../input/train.csv')\ntest_set = pd.read_csv('../input/test.csv')\ntrain_set.head()",
      "execution_count": null,
      "outputs": []
    },
    {
      "metadata": {
        "trusted": true,
        "_uuid": "c3a3c7f8a8f3cd4eb2bc64d2d099615d27b2ff15"
      },
      "cell_type": "code",
      "source": "test_set.head()",
      "execution_count": null,
      "outputs": []
    },
    {
      "metadata": {
        "_uuid": "66a621562e0d7e2caec75d21f58a5242c871ee0e"
      },
      "cell_type": "markdown",
      "source": "### Let's see the distribution"
    },
    {
      "metadata": {
        "trusted": true,
        "_uuid": "687d0b5cd252bbdc76c219bf5808a3f675638a3e"
      },
      "cell_type": "code",
      "source": "x = train_set['target'].value_counts(dropna=False)\nprint(x)\nsincere_examples = x[0]\ninsincere_examples = x[1]",
      "execution_count": null,
      "outputs": []
    },
    {
      "metadata": {
        "_uuid": "54c1f9d6e578c09fa65202b89bc42e63326e9e7c"
      },
      "cell_type": "markdown",
      "source": "So there are no missing values in the dataset, but, there is a large difference in data distribution as #examples[i==0] >> #examples[i==1]\n\n### Visualizing The Data Separation"
    },
    {
      "metadata": {
        "trusted": true,
        "_uuid": "b96f9539692f294a95f5c1d59b2c9869ae2da097"
      },
      "cell_type": "code",
      "source": "plt.hist(train_set['target'], bins=range(0,6), align='left', rwidth=1)",
      "execution_count": null,
      "outputs": []
    },
    {
      "metadata": {
        "trusted": true,
        "_uuid": "bde15bd2b6f616715d542a2cf7fe764909aa852b"
      },
      "cell_type": "markdown",
      "source": "### Let's Do some EDA\nFirstly, Let's See The Word Length Distributions."
    },
    {
      "metadata": {
        "trusted": true,
        "_uuid": "6bc4ac5e43c1c5674d6623313cd233d5bf64ac9b"
      },
      "cell_type": "code",
      "source": "# max and min question lengths\n# to remove punctuations : translate(str.maketrans('','',string.punctuation))\nlengths_without_puncs = [len(i.translate(str.maketrans('','',string.punctuation)).split()) for i in train_set['question_text']]\nlengths = [len(i.split()) for i in train_set['question_text']]\nprint('With Punctuations: ')\nprint('Max Length Of Questions: {}'.format(np.max(lengths)))\nprint('Min Length Of Questions: {}'.format(np.min(lengths)))\nprint('Without Punctuations: ')\nprint('Max Length Of Questions: {}'.format(np.max(lengths_without_puncs)))\nprint('Min Length Of Questions: {}'.format(np.min(lengths_without_puncs)))\n# print(len(lengths))",
      "execution_count": null,
      "outputs": []
    },
    {
      "metadata": {
        "_uuid": "156a63445227592dce3e64499ba7c7a969d61567"
      },
      "cell_type": "markdown",
      "source": "So We Can See That the length of questions range from 0 to 132. We've to remove the empty length questions as they'll not contribute anything to learning. First Let's see how many 0 length questions are there."
    },
    {
      "metadata": {
        "trusted": true,
        "_uuid": "3ed97196c37196f8acd424da8c0ac57f1964d248"
      },
      "cell_type": "code",
      "source": "print(len(lengths_without_puncs) - np.count_nonzero(lengths_without_puncs)) # Will remove them or use fillna to overcome this",
      "execution_count": null,
      "outputs": []
    },
    {
      "metadata": {
        "trusted": true,
        "_uuid": "858552df5329770c2002fe01305ecd0916e2659a"
      },
      "cell_type": "code",
      "source": "plt.hist(lengths)\nplt.yscale('log')",
      "execution_count": null,
      "outputs": []
    },
    {
      "metadata": {
        "_uuid": "f6fc9507c643a85ef9075b094d5d232eb57615aa"
      },
      "cell_type": "markdown",
      "source": "So Most Questions Range In Length From 0 to 60."
    },
    {
      "metadata": {
        "trusted": true,
        "_uuid": "d541e04c38638429694ca76b38fed97bab5cb4c5"
      },
      "cell_type": "markdown",
      "source": "### Let's Do Some Preprocessing on the data"
    },
    {
      "metadata": {
        "trusted": true,
        "_uuid": "01804b679adb5ee1756f337a622014a01fc74fa5"
      },
      "cell_type": "code",
      "source": "# Code from https://www.kaggle.com/theoviel/improve-your-score-with-some-text-preprocessing\n\ncontraction_mapping = {\"ain't\": \"is not\", \"aren't\": \"are not\",\"can't\": \"cannot\", \"'cause\": \"because\", \"could've\": \"could have\", \"couldn't\": \"could not\", \"didn't\": \"did not\",  \"doesn't\": \"does not\", \"don't\": \"do not\", \"hadn't\": \"had not\", \"hasn't\": \"has not\", \"haven't\": \"have not\", \"he'd\": \"he would\",\"he'll\": \"he will\", \"he's\": \"he is\", \"how'd\": \"how did\", \"how'd'y\": \"how do you\", \"how'll\": \"how will\", \"how's\": \"how is\",  \"I'd\": \"I would\", \"I'd've\": \"I would have\", \"I'll\": \"I will\", \"I'll've\": \"I will have\",\"I'm\": \"I am\", \"I've\": \"I have\", \"i'd\": \"i would\", \"i'd've\": \"i would have\", \"i'll\": \"i will\",  \"i'll've\": \"i will have\",\"i'm\": \"i am\", \"i've\": \"i have\", \"isn't\": \"is not\", \"it'd\": \"it would\", \"it'd've\": \"it would have\", \"it'll\": \"it will\", \"it'll've\": \"it will have\",\"it's\": \"it is\", \"let's\": \"let us\", \"ma'am\": \"madam\", \"mayn't\": \"may not\", \"might've\": \"might have\",\"mightn't\": \"might not\",\"mightn't've\": \"might not have\", \"must've\": \"must have\", \"mustn't\": \"must not\", \"mustn't've\": \"must not have\", \"needn't\": \"need not\", \"needn't've\": \"need not have\",\"o'clock\": \"of the clock\", \"oughtn't\": \"ought not\", \"oughtn't've\": \"ought not have\", \"shan't\": \"shall not\", \"sha'n't\": \"shall not\", \"shan't've\": \"shall not have\", \"she'd\": \"she would\", \"she'd've\": \"she would have\", \"she'll\": \"she will\", \"she'll've\": \"she will have\", \"she's\": \"she is\", \"should've\": \"should have\", \"shouldn't\": \"should not\", \"shouldn't've\": \"should not have\", \"so've\": \"so have\",\"so's\": \"so as\", \"this's\": \"this is\",\"that'd\": \"that would\", \"that'd've\": \"that would have\", \"that's\": \"that is\", \"there'd\": \"there would\", \"there'd've\": \"there would have\", \"there's\": \"there is\", \"here's\": \"here is\",\"they'd\": \"they would\", \"they'd've\": \"they would have\", \"they'll\": \"they will\", \"they'll've\": \"they will have\", \"they're\": \"they are\", \"they've\": \"they have\", \"to've\": \"to have\", \"wasn't\": \"was not\", \"we'd\": \"we would\", \"we'd've\": \"we would have\", \"we'll\": \"we will\", \"we'll've\": \"we will have\", \"we're\": \"we are\", \"we've\": \"we have\", \"weren't\": \"were not\", \"what'll\": \"what will\", \"what'll've\": \"what will have\", \"what're\": \"what are\",  \"what's\": \"what is\", \"what've\": \"what have\", \"when's\": \"when is\", \"when've\": \"when have\", \"where'd\": \"where did\", \"where's\": \"where is\", \"where've\": \"where have\", \"who'll\": \"who will\", \"who'll've\": \"who will have\", \"who's\": \"who is\", \"who've\": \"who have\", \"why's\": \"why is\", \"why've\": \"why have\", \"will've\": \"will have\", \"won't\": \"will not\", \"won't've\": \"will not have\", \"would've\": \"would have\", \"wouldn't\": \"would not\", \"wouldn't've\": \"would not have\", \"y'all\": \"you all\", \"y'all'd\": \"you all would\",\"y'all'd've\": \"you all would have\",\"y'all're\": \"you all are\",\"y'all've\": \"you all have\",\"you'd\": \"you would\", \"you'd've\": \"you would have\", \"you'll\": \"you will\", \"you'll've\": \"you will have\", \"you're\": \"you are\", \"you've\": \"you have\" }\n\npunct = \"/-'?!.,#$%\\'()*+-/:;<=>@[\\\\]^_`{|}~\" + '\"\"“”’' + '∞θ÷α•à−β∅³π‘₹´°£€\\×™√²—–&'\npunct_mapping = {\"‘\": \"'\", \"₹\": \"e\", \"´\": \"'\", \"°\": \"\", \"€\": \"e\", \"™\": \"tm\", \"√\": \" sqrt \", \"×\": \"x\", \"²\": \"2\", \"—\": \"-\", \"–\": \"-\", \"’\": \"'\", \"_\": \"-\", \"`\": \"'\", '“': '\"', '”': '\"', '“': '\"', \"£\": \"e\", '∞': 'infinity', 'θ': 'theta', '÷': '/', 'α': 'alpha', '•': '.', 'à': 'a', '−': '-', 'β': 'beta', '∅': '', '³': '3', 'π': 'pi', }\n\nmispell_dict = {'colour': 'color', 'centre': 'center', 'favourite': 'favorite', 'travelling': 'traveling', 'counselling': 'counseling', 'theatre': 'theater', 'cancelled': 'canceled', 'labour': 'labor', 'organisation': 'organization', 'wwii': 'world war 2', 'citicise': 'criticize', 'youtu ': 'youtube ', 'Qoura': 'Quora', 'sallary': 'salary', 'Whta': 'What', 'narcisist': 'narcissist', 'howdo': 'how do', 'whatare': 'what are', 'howcan': 'how can', 'howmuch': 'how much', 'howmany': 'how many', 'whydo': 'why do', 'doI': 'do I', 'theBest': 'the best', 'howdoes': 'how does', 'mastrubation': 'masturbation', 'mastrubate': 'masturbate', \"mastrubating\": 'masturbating', 'pennis': 'penis', 'Etherium': 'Ethereum', 'narcissit': 'narcissist', 'bigdata': 'big data', '2k17': '2017', '2k18': '2018', 'qouta': 'quota', 'exboyfriend': 'ex boyfriend', 'airhostess': 'air hostess', \"whst\": 'what', 'watsapp': 'whatsapp', 'demonitisation': 'demonetization', 'demonitization': 'demonetization', 'demonetisation': 'demonetization'}\n\ndef clean_contractions(text, mapping=contraction_mapping):\n    specials = [\"’\", \"‘\", \"´\", \"`\"]\n    for s in specials:\n        text = text.replace(s, \"'\")\n    text = ' '.join([mapping[t] if t in mapping else t for t in text.split(\" \")])\n    return text\n\ndef clean_special_chars(text, punct=punct, mapping=punct_mapping):\n    for p in mapping:\n        text = text.replace(p, mapping[p])\n    \n    for p in punct:\n        text = text.replace(p, f' {p} ')\n    \n    specials = {'\\u200b': ' ', '…': ' ... ', '\\ufeff': '', 'करना': '', 'है': ''}  # Other special characters that I have to deal with in last\n    for s in specials:\n        text = text.replace(s, specials[s])\n    \n    return text\n\ndef correct_spelling(x, dictionary=mispell_dict):\n    for word in dictionary.keys():\n        x = x.replace(word, dictionary[word])\n    return x\n\n\ndef clean(text):\n    text = text.lower()\n    text = clean_contractions(text)\n    text = clean_special_chars(text)\n    text = correct_spelling(text)\n    return text",
      "execution_count": null,
      "outputs": []
    },
    {
      "metadata": {
        "trusted": true,
        "_uuid": "9c1c8f986f919b51afd0e56bc8fd64943294123b"
      },
      "cell_type": "code",
      "source": "sincere_counts = Counter()\ninsincere_counts = Counter()\nword_dict = Counter()\nsincere_to_insincere_ratio = Counter()\n\ndef prepare_dicts():\n    qs = [clean(i) for i in train_set['question_text']]\n    lbl = [j for j in train_set['target']]\n    for i,j in zip(qs,lbl):\n        words = i.split()\n        # making the dictionaries\n        for word in words:\n            word_dict[word] += 1\n            if j == 0:\n                sincere_counts[word] += 1\n            elif j == 1:\n                insincere_counts[word] += 1\n    \n    tst_qs = [clean(i) for i in test_set['question_text']]\n    \n    for i in tst_qs:\n        i = i.split()\n        for j in i:\n            word_dict[j] += 1\n    \n    print('Words in sincere Questions: {}'.format(len(sincere_counts)))\n    print('Words in insincere Questions: {}'.format(len(insincere_counts)))\n    print('Total Words in corpus: {}'.format(len(word_dict)))\n\n    print('Most Common Words in Sincere Questions : ')\n    print(sincere_counts.most_common()[:10])\n    print('Most Common Words in Insincere Questions : ')\n    print(insincere_counts.most_common()[:10])\n\n    for i in sincere_counts:\n        if sincere_counts[i] >= 100:\n            sincere_to_insincere_ratio[i] = np.log(sincere_counts[i]/(insincere_counts[i] + 1))\n\n    print('The Most Sincere Words : ')\n    print(sincere_to_insincere_ratio.most_common()[:10])\n    print('The Most Insincere Words : ')\n    print(list(reversed(sincere_to_insincere_ratio.most_common()))[:10])\n    \n    return sincere_counts, insincere_counts, word_dict",
      "execution_count": null,
      "outputs": []
    },
    {
      "metadata": {
        "trusted": true,
        "_uuid": "a92c62fd7a7d16d5b680f94e3032a56b87062bfb"
      },
      "cell_type": "code",
      "source": "prepare_dicts()",
      "execution_count": null,
      "outputs": []
    },
    {
      "metadata": {
        "_uuid": "0a5d57e4d77b8cf138977f5349b73c5ddb9db028"
      },
      "cell_type": "markdown",
      "source": "### Aaannddd a wordcloud for fun"
    },
    {
      "metadata": {
        "trusted": true,
        "_uuid": "000654ec215bd6c3640eabfc7c9f99a516a3dab8"
      },
      "cell_type": "code",
      "source": "wordCloud = WordCloud().generate(\" \".join([key[0] for key in sincere_to_insincere_ratio.most_common()[:10]]))\nfig = plt.figure()\nplt.imshow(wordCloud, interpolation=\"bilinear\")\nplt.axis(\"off\")\nplt.margins(x=0, y=0)\nfig.suptitle('Most Common Words In Sincere Questions', fontsize=14, fontweight='bold')\nplt.show()",
      "execution_count": null,
      "outputs": []
    },
    {
      "metadata": {
        "trusted": true,
        "_uuid": "d09d16c8b6f4f36885338f34ab918b63313fba1e"
      },
      "cell_type": "code",
      "source": "wordCloud = WordCloud().generate(\" \".join([key[0] for key in list(reversed(sincere_to_insincere_ratio.most_common()))[:10]]))\nfig = plt.figure()\nplt.imshow(wordCloud, interpolation=\"bilinear\")\nplt.axis(\"off\")\nplt.margins(x=0, y=0)\nfig.suptitle('Most Common Words In Insincere Questions', fontsize=14, fontweight='bold')\nplt.show()",
      "execution_count": null,
      "outputs": []
    },
    {
      "metadata": {
        "trusted": true,
        "_uuid": "bf88178a007ff76d6e8ab3d1c584854221b9b77d"
      },
      "cell_type": "code",
      "source": "# Creating The Datasets First\ntrain_x = list(train_set['question_text'].fillna(\"_na_\").values)\ntrain_y = train_set['target'].values\n\ntest_x = list(test_set['question_text'].fillna(\"_na_\").values)\n\ntrain_x, val_x, train_y, val_y = train_test_split(train_x, train_y, test_size=0.2)\n\n# Cleaning Up The Data (train + test)\ntrain_x = [clean(i) for i in train_x]\nval_x = [clean(i) for i in val_x]\ntest_x = [clean(i) for i in test_x]\n\n# An Example From Train Set\nprint('An Example From Train Set: ')\nprint(train_x[0])\n\n## Tokenize the sentences\ntokenizer = text.Tokenizer(num_words=max_features)\ntokenizer.fit_on_texts(list(train_x))\ntrain_X = tokenizer.texts_to_sequences(train_x)\nval_X = tokenizer.texts_to_sequences(val_x)\ntest_X = tokenizer.texts_to_sequences(test_x)\n\n# After Tokenizing\nprint('After Tokenizing: ')\nprint(train_X[0])\n\n## Pad the sentences \ntrain_X = seq.pad_sequences(train_X, maxlen=max_seq_len)\nval_X = seq.pad_sequences(val_X, maxlen=max_seq_len)\ntest_X = seq.pad_sequences(test_X, maxlen=max_seq_len)\n\n# After Padding\nprint('After Padding: ')\nprint(train_X[0])\n\nprint(np.shape(train_X), np.shape(train_y), np.shape(val_X), np.shape(val_y))",
      "execution_count": null,
      "outputs": []
    },
    {
      "metadata": {
        "trusted": true,
        "_uuid": "773ab1a797d93fe72d76a8f3fbd0dd65eea4987b"
      },
      "cell_type": "markdown",
      "source": "### Let's Get Those Embeddings"
    },
    {
      "metadata": {
        "trusted": true,
        "_uuid": "a80100836a46cf604d0978dae973843ed755690c"
      },
      "cell_type": "code",
      "source": "# Thanks to https://www.kaggle.com/sudalairajkumar/a-look-at-different-embeddings\n\ndef get_coefs(word,*arr): return word, np.asarray(arr, dtype='float32')\n\ndef get_embeddings(embedding_name, mode='new'):\n    # Getting The File\n    filePath = '../input/embeddings/{0}/{0}.txt'.format(embedding_name)\n    \n    # Creating a Dictionary of format {word : Embedding}\n    if mode == 'new':\n        embeddings_idx = dict(get_coefs(*i.split(\" \")) for i in open(filePath))\n        # All Embeddings\n        all_embs = np.stack(embeddings_idx.values())\n\n        # Creating The Embedding Matrix with distribution, for if there is a missing word in the embeddings, it'll have\n        # the embedding vector with the same distribution\n        emb_mean,emb_std = all_embs.mean(), all_embs.std()\n        embed_size = all_embs.shape[1]\n\n        word_index = tokenizer.word_index\n        nb_words = min(max_features, len(word_index))\n        embedding_matrix = np.random.normal(emb_mean, emb_std, (nb_words, embed_size))\n\n        # Filling in the given learned embeddings in the embedding matrix\n        for word, i in word_index.items():\n            if i >= max_features: continue\n            embedding_vector = embeddings_idx.get(word)\n            if embedding_vector is not None: embedding_matrix[i] = embedding_vector\n                \n    return embeddings_idx, embedding_matrix\n# # Creating The Embedding Matrix From The Given Embedding\n# get_embeddings(EMBEDDING)",
      "execution_count": null,
      "outputs": []
    },
    {
      "metadata": {
        "trusted": true,
        "_uuid": "fb0ed96ada1784bfe6c2b24f679767b3821f28c2"
      },
      "cell_type": "code",
      "source": "# Checking OOV words (Out Of Vocab words)\ndef check_coverage(vocab, embeddings_index):\n    known_words = {}\n    unknown_words = {}\n    nb_known_words = 0\n    nb_unknown_words = 0\n    for word in vocab.keys():\n        try:\n            known_words[word] = embeddings_index[word]\n            nb_known_words += vocab[word]\n        except:\n            unknown_words[word] = vocab[word]\n            nb_unknown_words += vocab[word]\n            pass\n\n    print('Found embeddings for {:.2%} of vocab'.format(len(known_words) / len(vocab)))\n    print('Found embeddings for  {:.2%} of all text'.format(nb_known_words / (nb_known_words + nb_unknown_words)))\n    unknown_words = sorted(unknown_words.items(), key=operator.itemgetter(1))[::-1]\n\n    return unknown_words",
      "execution_count": null,
      "outputs": []
    },
    {
      "metadata": {
        "trusted": true,
        "_uuid": "2f88f32f555f42ca503f15c8cee394fe808674cd"
      },
      "cell_type": "code",
      "source": "embedding_idxs, embedding_mtx = get_embeddings(EMBEDDING, 'new')\nunk_wrds = check_coverage(word_dict, embedding_idxs)",
      "execution_count": null,
      "outputs": []
    },
    {
      "metadata": {
        "trusted": true,
        "_uuid": "bdb9df3e9182a8c98dd345f33cb34d8bc5aff804"
      },
      "cell_type": "code",
      "source": "print(unk_wrds[:10])\nprint(np.shape(embedding_mtx))",
      "execution_count": null,
      "outputs": []
    },
    {
      "metadata": {
        "trusted": true,
        "_uuid": "231e3ff982cff1d26478b79a15ef84949997ca16"
      },
      "cell_type": "markdown",
      "source": "### Enough Chit-Chat, Let's Start Making Some Models And Getting Some Results"
    },
    {
      "metadata": {
        "trusted": true,
        "_uuid": "49a75fa36de35b2ec7a5f6844289f961c53d29f9"
      },
      "cell_type": "code",
      "source": "# Create The Model\ndef get_model(model_type):\n    if model_type == 'nb':\n        # create naivebayes model\n        model = NaiveBayes()\n\n    elif model_type == 'svm':\n        # create svm model\n        model = __SVC__()\n\n    elif model_type == 'rnn':\n        inp = Input(shape=(max_seq_len,))\n        layer = Embedding(max_features, embed_size, weights=[embedding_mtx], trainable=False)(inp)\n        layer = SimpleRNN(128, return_sequences=True)(layer)\n        layer = SimpleRNN(64, return_sequences=True)(layer)\n        layer = GlobalMaxPool1D()(layer)\n        layer = Dense(64, activation='relu')(layer)\n        layer = Dropout(0.2)(layer)\n        layer = Dense(1, activation='sigmoid')(layer)\n        model = Model(inputs=inp, outputs=layer)\n\n    elif model_type == 'lstm':\n        # create lstm model\n        inp = Input(shape=(max_seq_len,))\n        layer = Embedding(max_features, embed_size, weights=[embedding_mtx], trainable=False)(inp)\n        layer = Bidirectional(CuDNNLSTM(128, return_sequences=True))(layer)\n        layer = Bidirectional(CuDNNLSTM(64, return_sequences=True))(layer)\n        layer = GlobalMaxPool1D()(layer)\n        layer = Dense(64, activation='relu')(layer)\n        layer = Dropout(0.2)(layer)\n        layer = Dense(1, activation='sigmoid')(layer)\n        model = Model(inputs=inp, outputs=layer)\n\n    elif model_type == 'gru':\n        # create attention model\n        inp = Input(shape=(max_seq_len,))\n        layer = Embedding(max_features, embed_size, weights=[embedding_mtx], trainable=False)(inp)\n        layer = Bidirectional(CuDNNGRU(128, return_sequences=True))(layer)\n        layer = Bidirectional(CuDNNGRU(64, return_sequences=True))(layer)\n        layer = GlobalMaxPool1D()(layer)\n        layer = Dense(64, activation='relu')(layer)\n        layer = Dropout(0.2)(layer)\n        layer = Dense(1, activation='sigmoid')(layer)\n        model = Model(inputs=inp, outputs=layer)\n\n    elif model_type == 'attention':\n        inp = Input(shape=(max_seq_len,))\n        layer = Embedding(max_features, embed_size, weights=[embedding_mtx], trainable=False)(inp)\n        layer = Bidirectional(CuDNNLSTM(128, return_sequences=True))(layer)\n        layer = Bidirectional(CuDNNLSTM(64, return_sequences=True))(layer)\n        layer = Attention(max_seq_len)(layer)\n        layer = Dense(64, activation='relu')(layer)\n        layer = Dropout(0.2)(layer)\n        layer = Dense(1, activation='sigmoid')(layer)\n        model = Model(inputs=inp, outputs=layer)\n\n    return model\n",
      "execution_count": 56,
      "outputs": []
    },
    {
      "metadata": {
        "_uuid": "7a883e0d205853cb97ab7968216efe869a9e7bf5"
      },
      "cell_type": "markdown",
      "source": "Defining Naive Bayes, SVM and Attention Layer"
    },
    {
      "metadata": {
        "trusted": true,
        "_uuid": "b76c0f69201351c0f5ea6bd723cc9829238f6f79"
      },
      "cell_type": "code",
      "source": "# Defining The NaiveBayes Class\nclass NaiveBayes():\n    def __init__(self):\n        self.sincere_example_count = sincere_examples\n        self.insincere_example_count = insincere_examples\n        self.total_examples = x[0]+x[1]\n        self.sincere_dict = sincere_counts\n        self.insincere_dict = insincere_counts\n        self.word_dict= word_dict\n        self.sincere_word_count = np.sum(list(sincere_counts.values()))\n        self.insincere_word_count = np.sum(list(insincere_counts.values()))\n        self.sincere_prob = self.sincere_example_count / self.total_examples\n        self.insincere_prob = self.insincere_example_count / self.total_examples\n    \n    def summary(self):\n        print('Positive Examples : {}, Negative Examples : {}, Total Examples : {}'.format(self.sincere_example_count, self.insincere_example_count, self.total_examples))\n    \n    def compile(self):\n        # Compilation step\n        # Do Nothing\n        print('Compiling...')\n    \n    def fit(self, x_train, y_train, batch_size):\n        # NB Model Fitting\n        print(np.shape(x_train), np.shape(y_train))\n        num_batches = int(len(x_train)/(batch_size*10))\n        for epoch in range(num_batches):\n            indices = np.random.randint(0,np.shape(y_train)[0], batch_size)\n            examples = [x_train[i] for i in indices]\n            labels = [y_train[j] for j in indices]\n            predictions = []\n            \n            for i in examples:\n                #                   P(words|c=1)*P(c=1) + 1\n                # P(c=1|words) =   ------------------------\n                #                       P(words) + 2\n                #\n                #                   P(words|c=0)*P(c=0) + 1\n                # P(c=0|words) =   ------------------------\n                #                       P(words) + 2\n                #\n                # Where P(words|c=i) = product(P(word[j]|c=i))\n                # \n                # And P(words) = product(P(word[j]))\n                #\n                # 1 and 2 are added to numerator and denominator acc to laplace smoothing, \n                # to avoid division by zero or numerator being 0\n                p_words = np.prod([word_dict[j]/np.sum(list(word_dict.values())) for j in i.split()])\n                p_words += 2\n                sincere_prob_num = np.prod([sincere_counts[j]/self.sincere_word_count for j in i.split()]) * self.sincere_prob\n                insincere_prob_num = np.prod([insincere_counts[j]/self.insincere_word_count for j in i.split()]) * self.insincere_prob\n                \n                sincere_prob = sincere_prob_num/p_words\n                insincere_prob = insincere_prob_num/p_words\n                \n                print('Sincere_prob: {}, Insincere_prob: {}'.format(sincere_prob, insincere_prob))\n                predictions.append(np.argmax([sincere_prob, insincere_prob]))\n            \n            f1 = f1_score(labels, predictions)\n            print('epoch {}/{}, f1_score : {}'.format(epoch, num_batches, f1))\n            \n    def evaluate(self, x_val, y_val):\n        predictions = []\n        for example in x_val:\n            p_words = np.prod([word_dict[j]/np.sum(list(word_dict.values())) for j in example.split()])\n            p_words += 2\n            sincere_prob_num = np.prod([sincere_counts[j]/self.sincere_word_count for j in example.split()]) * self.sincere_prob + 1\n            insincere_prob_num = np.prod([insincere_counts[j]/self.insincere_word_count for j in example.split()]) * self.insincere_prob + 1\n            \n            sincere_prob = sincere_prob_num/p_words\n            insincere_prob = insincere_prob_num/p_words\n            \n            predictions.append(np.argmax([pos_prob, neg_prob]))\n        \n        f1 = f1_score(y_val, predictions)\n        print(f1)\n        \n    # only useful method\n    def predict(self, x_test):\n        # The NB Prediction with Laplace Smoothing\n        print('Predicting...')\n        predictions = []\n        for example in x_test:\n            p_words = np.prod([word_dict[j]/np.sum(list(word_dict.values())) for j in example.split()])\n            p_words += 2\n            sincere_prob_num = np.prod([sincere_counts[j]/self.sincere_word_count for j in example.split()]) * self.sincere_prob\n            insincere_prob_num = np.prod([insincere_counts[j]/self.insincere_word_count for j in example.split()]) * self.insincere_prob\n\n            sincere_prob = sincere_prob_num/p_words\n            insincere_prob = insincere_prob_num/p_words\n\n#             print('Sincere_prob: {}, Insincere_prob: {}'.format(sincere_prob, insincere_prob))\n            predictions.append(np.argmax([sincere_prob, insincere_prob]))\n#             print('predicted Class : {}'.format(np.argmax([sincere_prob, insincere_prob])))\n        return predictions\n\n# The SVM Class\nclass __SVC__(SVC):\n    def __init__(self):\n        super(__SVC__,self).__init__(verbose=True)\n        print('initializing...')\n    \n    def summary(self):\n        print(self.__dict__)\n        \n    def prepare_data(self):\n        self.X_train = [embedding_mtx[i] for example in train_X for i in example]\n        self.X_val = [embedding_mtx[i] for example in val_X for i in example]\n        self.X_test = [embedding_mtx[i] for example in test_X for i in example]",
      "execution_count": null,
      "outputs": []
    },
    {
      "metadata": {
        "trusted": true,
        "_uuid": "a8ee132ec25c3ae87d6dfde80d73c7b09746d8bf"
      },
      "cell_type": "code",
      "source": "class Attention(Layer):\n    def __init__(self, step_dim, **kwargs):\n        self.supports_masking = True\n        self.init = initializers.get('glorot_uniform')\n        self.features_dim = 0\n        self.step_dim = step_dim\n        self.bias = True\n        super(Attention, self).__init__(**kwargs)\n\n    def build(self, input_shape):\n        assert len(input_shape) == 3\n\n        self.W = self.add_weight((input_shape[-1],),\n                                 initializer=self.init,\n                                 name='{}_W'.format(self.name))\n        \n        self.features_dim = input_shape[-1]\n\n        if self.bias:\n            self.b = self.add_weight((input_shape[1],),\n                                     initializer='zero',\n                                     name='{}_b'.format(self.name),\n                                     )\n        else:\n            self.b = None\n\n        self.built = True\n\n    def call(self, x, mask=None):\n        features_dim = self.features_dim\n        step_dim = self.step_dim\n\n        eij = K.reshape(K.dot(K.reshape(x, (-1, features_dim)),\n                        K.reshape(self.W, (features_dim, 1))), (-1, step_dim))\n\n        if self.bias:\n            eij += self.b\n\n        eij = K.tanh(eij)\n\n        a = K.exp(eij)\n\n        if mask is not None:\n            a *= K.cast(mask, K.floatx())\n\n        a /= K.cast(K.sum(a, axis=1, keepdims=True) + K.epsilon(), K.floatx())\n\n        a = K.expand_dims(a)\n        weighted_input = x * a\n        return K.sum(weighted_input, axis=1)\n\n    def compute_output_shape(self, input_shape):\n        return input_shape[0],  self.features_dim",
      "execution_count": 58,
      "outputs": []
    },
    {
      "metadata": {
        "_uuid": "4b11f7d083284a1258ef9ae6e41f45b0bdad95bb"
      },
      "cell_type": "markdown",
      "source": "## That's it. Let's Create The Submission Files From Each Model.\n🤞"
    },
    {
      "metadata": {
        "trusted": true,
        "_uuid": "7322bf9f9d92354f0c02fcc84ef5ab1275145dbe"
      },
      "cell_type": "code",
      "source": "def print_f1s(predictions):\n    for thresh in np.arange(0.1, 0.501, 0.01):\n        thresh = np.round(thresh, 2)\n        print(\"F1 score at threshold {0} is {1}\".format(thresh, f1_score(val_y, (predictions>thresh).astype(int))))",
      "execution_count": 46,
      "outputs": []
    },
    {
      "metadata": {
        "_uuid": "4db12f1d97b48e06d59585d8100c44510d607bce"
      },
      "cell_type": "markdown",
      "source": "\n## Naive Bayes, Working Without Embeddings"
    },
    {
      "metadata": {
        "trusted": true,
        "_uuid": "0e9aa8a49ce6f9911a1ac23e7979020566313b1e"
      },
      "cell_type": "code",
      "source": "nb = get_model('nb')\nnb.summary()\npredictions = nb.predict(val_x)\npredictions_nb = nb.predict(test_x)\nprint('Done!')\n\nprint_f1s(predictions)\n    \npredictions_nb = pd.DataFrame({\"qid\":test_set[\"qid\"].values})\npredictions_nb['prediction'] = predictions_nb\npredictions_nb.to_csv(\"submission_nb.csv\", index=False)\n\n#freeing up some memory\ndel nb, word_dict, sincere_counts, insincere_counts, sincere_to_insincere_ratio\n\ngc.collect()\ntime.sleep(10)\n",
      "execution_count": null,
      "outputs": []
    },
    {
      "metadata": {
        "_uuid": "b0a222a26e88748783f0617298640aba798a1cd1"
      },
      "cell_type": "markdown",
      "source": "## SVM, Simple ML Classifier"
    },
    {
      "metadata": {
        "trusted": true,
        "_uuid": "6db056a1ab3870da1d5fb7097f9aeb7f52014fc1"
      },
      "cell_type": "code",
      "source": "svm = get_model('svm')\nsvm.summary()\nsvm.prepare_data()\nsvm.fit(svm.X_train, train_y)\n\npredictions = svm.predict(svm.X_val)\n\npredictions_svm = svm.predict(svm.X_test)\n\nprint_f1s(predictions)\n    \npredictions_svm = pd.DataFrame({\"qid\":test_set[\"qid\"].values})\npredictions_svm['prediction'] = predictions_svm\npredictions_svm.to_csv(\"submission_svm.csv\", index=False)\n\ndel svm\ngc.collect()\ntime.sleep(10)\n",
      "execution_count": null,
      "outputs": [
        {
          "output_type": "stream",
          "text": "initializing...\n{'decision_function_shape': 'ovr', 'kernel': 'rbf', 'degree': 3, 'gamma': 'auto_deprecated', 'coef0': 0.0, 'tol': 0.001, 'C': 1.0, 'nu': 0.0, 'epsilon': 0.0, 'shrinking': True, 'probability': False, 'cache_size': 200, 'class_weight': None, 'verbose': True, 'max_iter': -1, 'random_state': None}\n",
          "name": "stdout"
        }
      ]
    },
    {
      "metadata": {
        "_uuid": "e81d2ff21379037b35f0da6bf5b92731ed54e4c7"
      },
      "cell_type": "markdown",
      "source": "## Simple RNN, Let's get reccurring..."
    },
    {
      "metadata": {
        "trusted": true,
        "_uuid": "a0547779f5bdd207263e42dea516506b34e11f1a"
      },
      "cell_type": "code",
      "source": "rnn = get_model('rnn')\nrnn.summary()\nrnn.compile(loss='binary_crossentropy', optimizer=Adam(lr=1e-3), metrics=['accuracy'])\nrnn.fit(train_X, train_y, batch_size=256, epochs=2, validation_data=(val_X, val_y), callbacks=[earlystop, reducelr])\n\n\npredictions_rnn = rnn.predict(test_X)\npredictions = rnn.predict(val_X, batch_size=1024)\nprint_f1s(predictions)\n\npredictions_rnn = pd.DataFrame({\"qid\":test_set[\"qid\"].values})\npredictions_rnn['prediction'] = predictions_rnn\npredictions_rnn.to_csv(\"submission_rnn.csv\", index=False)\n\ndel rnn\ngc.collect()\ntime.sleep(10)",
      "execution_count": 50,
      "outputs": [
        {
          "output_type": "stream",
          "text": "_________________________________________________________________\nLayer (type)                 Output Shape              Param #   \n=================================================================\ninput_11 (InputLayer)        (None, 70)                0         \n_________________________________________________________________\nembedding_11 (Embedding)     (None, 70, 300)           15000000  \n_________________________________________________________________\nsimple_rnn_17 (SimpleRNN)    (None, 70, 128)           54912     \n_________________________________________________________________\nsimple_rnn_18 (SimpleRNN)    (None, 70, 64)            12352     \n_________________________________________________________________\nglobal_max_pooling1d_7 (Glob (None, 64)                0         \n_________________________________________________________________\ndense_21 (Dense)             (None, 64)                4160      \n_________________________________________________________________\ndropout_7 (Dropout)          (None, 64)                0         \n_________________________________________________________________\ndense_22 (Dense)             (None, 1)                 65        \n=================================================================\nTotal params: 15,071,489\nTrainable params: 71,489\nNon-trainable params: 15,000,000\n_________________________________________________________________\nTrain on 1044897 samples, validate on 261225 samples\nEpoch 1/2\n1044897/1044897 [==============================] - 579s 554us/step - loss: 0.1545 - acc: 0.9459 - val_loss: 0.1345 - val_acc: 0.9500\nEpoch 2/2\n1044897/1044897 [==============================] - 569s 545us/step - loss: 0.1326 - acc: 0.9508 - val_loss: 0.1282 - val_acc: 0.9512\nF1 score at threshold 0.1 is 0.5237596227479747\nF1 score at threshold 0.11 is 0.5333555218105798\nF1 score at threshold 0.12 is 0.5408721675929885\nF1 score at threshold 0.13 is 0.5490798893232026\nF1 score at threshold 0.14 is 0.5541263773330335\nF1 score at threshold 0.15 is 0.558984500758865\nF1 score at threshold 0.16 is 0.5644365038318679\nF1 score at threshold 0.17 is 0.5685568988677797\nF1 score at threshold 0.18 is 0.5725536234010811\nF1 score at threshold 0.19 is 0.5751135059621812\nF1 score at threshold 0.2 is 0.5782649514095051\nF1 score at threshold 0.21 is 0.5809767309728571\nF1 score at threshold 0.22 is 0.5829919109150121\nF1 score at threshold 0.23 is 0.5837404885863036\nF1 score at threshold 0.24 is 0.5846387338067105\nF1 score at threshold 0.25 is 0.5851739788199697\nF1 score at threshold 0.26 is 0.5865371192450513\nF1 score at threshold 0.27 is 0.5876075047543357\nF1 score at threshold 0.28 is 0.5882522315001439\nF1 score at threshold 0.29 is 0.588290234078571\nF1 score at threshold 0.3 is 0.5883293365307753\nF1 score at threshold 0.31 is 0.5879597658009308\nF1 score at threshold 0.32 is 0.5859096585544149\nF1 score at threshold 0.33 is 0.5846115860621585\nF1 score at threshold 0.34 is 0.5833176780011272\nF1 score at threshold 0.35 is 0.580766173899221\nF1 score at threshold 0.36 is 0.5774784066004899\nF1 score at threshold 0.37 is 0.5740522875816993\nF1 score at threshold 0.38 is 0.5711159737417943\nF1 score at threshold 0.39 is 0.5665870961234576\nF1 score at threshold 0.4 is 0.5615221698435472\nF1 score at threshold 0.41 is 0.5563079487446609\nF1 score at threshold 0.42 is 0.5501465033360398\nF1 score at threshold 0.43 is 0.543150488225158\nF1 score at threshold 0.44 is 0.5367367806018113\nF1 score at threshold 0.45 is 0.5305728702879193\nF1 score at threshold 0.46 is 0.5218869207236468\nF1 score at threshold 0.47 is 0.5145978382121013\nF1 score at threshold 0.48 is 0.5054007514088917\nF1 score at threshold 0.49 is 0.49455936864761446\nF1 score at threshold 0.5 is 0.4823414792563124\n",
          "name": "stdout"
        }
      ]
    },
    {
      "metadata": {
        "_uuid": "c07713bcfc069d07e30aea270eade3f9fb21feb2"
      },
      "cell_type": "markdown",
      "source": "## GRU, I'll Remember This."
    },
    {
      "metadata": {
        "trusted": true,
        "_uuid": "5b57c02f0545ce438070e34da9c2bae0fed9d66e"
      },
      "cell_type": "code",
      "source": "gru = get_model('gru')\ngru.summary()\ngru.compile(loss='binary_crossentropy', optimizer=Adam(lr=1e-3), metrics=['accuracy'])\ngru.fit(train_X, train_y, batch_size=512, epochs=1, validation_data=(val_X, val_y), callbacks=[earlystop, reducelr])\n\npredictions_gru = gru.predict(test_X)\npredictions = gru.predict(val_X, batch_size=1024)\n\nprint_f1s(predictions)\n\npredictions_gru = pd.DataFrame({\"qid\":test_set[\"qid\"].values})\npredictions_gru['prediction'] = predictions_gru\npredictions_gru.to_csv(\"submission_gru.csv\", index=False)\n\ndel gru\ngc.collect()\ntime.sleep(10)",
      "execution_count": 51,
      "outputs": [
        {
          "output_type": "stream",
          "text": "_________________________________________________________________\nLayer (type)                 Output Shape              Param #   \n=================================================================\ninput_12 (InputLayer)        (None, 70)                0         \n_________________________________________________________________\nembedding_12 (Embedding)     (None, 70, 300)           15000000  \n_________________________________________________________________\nbidirectional_5 (Bidirection (None, 70, 256)           330240    \n_________________________________________________________________\nbidirectional_6 (Bidirection (None, 70, 128)           123648    \n_________________________________________________________________\nglobal_max_pooling1d_8 (Glob (None, 128)               0         \n_________________________________________________________________\ndense_23 (Dense)             (None, 64)                8256      \n_________________________________________________________________\ndropout_8 (Dropout)          (None, 64)                0         \n_________________________________________________________________\ndense_24 (Dense)             (None, 1)                 65        \n=================================================================\nTotal params: 15,462,209\nTrainable params: 462,209\nNon-trainable params: 15,000,000\n_________________________________________________________________\nTrain on 1044897 samples, validate on 261225 samples\nEpoch 1/1\n1044897/1044897 [==============================] - 294s 281us/step - loss: 0.1445 - acc: 0.9483 - val_loss: 0.1268 - val_acc: 0.9529\nF1 score at threshold 0.1 is 0.45977530991735527\nF1 score at threshold 0.11 is 0.4724443773787368\nF1 score at threshold 0.12 is 0.4845018514333396\nF1 score at threshold 0.13 is 0.4962416831505124\nF1 score at threshold 0.14 is 0.5054472689542726\nF1 score at threshold 0.15 is 0.5139373154234542\nF1 score at threshold 0.16 is 0.5219602856304412\nF1 score at threshold 0.17 is 0.5300919420243305\nF1 score at threshold 0.18 is 0.5372520809783168\nF1 score at threshold 0.19 is 0.5441479302374448\nF1 score at threshold 0.2 is 0.5515402970956855\nF1 score at threshold 0.21 is 0.5570892492703372\nF1 score at threshold 0.22 is 0.5626035927070734\nF1 score at threshold 0.23 is 0.5679959800831392\nF1 score at threshold 0.24 is 0.5740555387444426\nF1 score at threshold 0.25 is 0.5775837524912214\nF1 score at threshold 0.26 is 0.5812465287001038\nF1 score at threshold 0.27 is 0.5864842923565156\nF1 score at threshold 0.28 is 0.5899561678146524\nF1 score at threshold 0.29 is 0.5928964533224622\nF1 score at threshold 0.3 is 0.595387406063747\nF1 score at threshold 0.31 is 0.5970157123273225\nF1 score at threshold 0.32 is 0.598991308080266\nF1 score at threshold 0.33 is 0.5997164976556537\nF1 score at threshold 0.34 is 0.6010253567964529\nF1 score at threshold 0.35 is 0.6016356457980824\nF1 score at threshold 0.36 is 0.603085393129552\nF1 score at threshold 0.37 is 0.6019870057978615\nF1 score at threshold 0.38 is 0.6013335308934658\nF1 score at threshold 0.39 is 0.5997890613228869\nF1 score at threshold 0.4 is 0.5979911807937285\nF1 score at threshold 0.41 is 0.5964988786444057\nF1 score at threshold 0.42 is 0.5943515704154002\nF1 score at threshold 0.43 is 0.5907376969931355\nF1 score at threshold 0.44 is 0.589234755797553\nF1 score at threshold 0.45 is 0.583764650883227\nF1 score at threshold 0.46 is 0.5784590286510553\nF1 score at threshold 0.47 is 0.5710228256728204\nF1 score at threshold 0.48 is 0.5649043551916426\nF1 score at threshold 0.49 is 0.5562074799323279\nF1 score at threshold 0.5 is 0.5484900744872124\n",
          "name": "stdout"
        }
      ]
    },
    {
      "metadata": {
        "_uuid": "0a16a62e144084f5d701a3cc2ef75659252a512a"
      },
      "cell_type": "markdown",
      "source": "## LSTM it is."
    },
    {
      "metadata": {
        "trusted": true,
        "_uuid": "aa588bd84b8f1e1524fcfdd898ee387fc8f88352"
      },
      "cell_type": "code",
      "source": "lstm = get_model('lstm')\nlstm.summary()\nlstm.compile(loss='binary_crossentropy', optimizer=Adam(lr=1e-3), metrics=['accuracy'])\nlstm.fit(train_X, train_y, batch_size=512, epochs=1, validation_data=(val_X, val_y), callbacks=[earlystop, reducelr])\n\npredictions_lstm = lstm.predict(test_X)\npredictions = lstm.predict(val_X, batch_size=1024)\nprint_f1s(predictions)\n\npredictions_lstm = pd.DataFrame({\"qid\":test_set[\"qid\"].values})\npredictions_lstm['prediction'] = predictions_lstm\npredictions_lstm.to_csv(\"submission_lstm.csv\", index=False)\n\ndel lstm\ngc.collect()\ntime.sleep(10)",
      "execution_count": 52,
      "outputs": [
        {
          "output_type": "stream",
          "text": "_________________________________________________________________\nLayer (type)                 Output Shape              Param #   \n=================================================================\ninput_13 (InputLayer)        (None, 70)                0         \n_________________________________________________________________\nembedding_13 (Embedding)     (None, 70, 300)           15000000  \n_________________________________________________________________\nbidirectional_7 (Bidirection (None, 70, 256)           440320    \n_________________________________________________________________\nbidirectional_8 (Bidirection (None, 70, 128)           164864    \n_________________________________________________________________\nglobal_max_pooling1d_9 (Glob (None, 128)               0         \n_________________________________________________________________\ndense_25 (Dense)             (None, 64)                8256      \n_________________________________________________________________\ndropout_9 (Dropout)          (None, 64)                0         \n_________________________________________________________________\ndense_26 (Dense)             (None, 1)                 65        \n=================================================================\nTotal params: 15,613,505\nTrainable params: 613,505\nNon-trainable params: 15,000,000\n_________________________________________________________________\nTrain on 1044897 samples, validate on 261225 samples\nEpoch 1/1\n1044897/1044897 [==============================] - 324s 310us/step - loss: 0.1461 - acc: 0.9480 - val_loss: 0.1258 - val_acc: 0.9518\nF1 score at threshold 0.1 is 0.5639451514608353\nF1 score at threshold 0.11 is 0.5712902556536573\nF1 score at threshold 0.12 is 0.5772380817118781\nF1 score at threshold 0.13 is 0.5827233506229095\nF1 score at threshold 0.14 is 0.586465047099653\nF1 score at threshold 0.15 is 0.5898584845953266\nF1 score at threshold 0.16 is 0.5923461756666151\nF1 score at threshold 0.17 is 0.5945406300081443\nF1 score at threshold 0.18 is 0.5971305672072457\nF1 score at threshold 0.19 is 0.5982845665273329\nF1 score at threshold 0.2 is 0.5994320531554134\nF1 score at threshold 0.21 is 0.5998656139761465\nF1 score at threshold 0.22 is 0.5994310099573258\nF1 score at threshold 0.23 is 0.5987941032224563\nF1 score at threshold 0.24 is 0.5979145919981255\nF1 score at threshold 0.25 is 0.5965547965547966\nF1 score at threshold 0.26 is 0.59591147560755\nF1 score at threshold 0.27 is 0.5954740061162079\nF1 score at threshold 0.28 is 0.5942913812873835\nF1 score at threshold 0.29 is 0.5924878202105925\nF1 score at threshold 0.3 is 0.5908583458262894\nF1 score at threshold 0.31 is 0.5883113942883017\nF1 score at threshold 0.32 is 0.5853450537916557\nF1 score at threshold 0.33 is 0.5833914400504698\nF1 score at threshold 0.34 is 0.58001952927708\nF1 score at threshold 0.35 is 0.5763139931740614\nF1 score at threshold 0.36 is 0.5725731256690957\nF1 score at threshold 0.37 is 0.5681826126472542\nF1 score at threshold 0.38 is 0.5653575096504586\nF1 score at threshold 0.39 is 0.5598017383808633\nF1 score at threshold 0.4 is 0.5528875933685553\nF1 score at threshold 0.41 is 0.5478299379982285\nF1 score at threshold 0.42 is 0.540303869470848\nF1 score at threshold 0.43 is 0.5331716743075815\nF1 score at threshold 0.44 is 0.527630872997624\nF1 score at threshold 0.45 is 0.5202778748011022\nF1 score at threshold 0.46 is 0.5132075471698113\nF1 score at threshold 0.47 is 0.5045224528828147\nF1 score at threshold 0.48 is 0.4960846048276419\nF1 score at threshold 0.49 is 0.487870730210677\nF1 score at threshold 0.5 is 0.479437318990484\n",
          "name": "stdout"
        }
      ]
    },
    {
      "metadata": {
        "_uuid": "a8469bcfc0789bb8dee76d72eecfb05ba4d0dd68"
      },
      "cell_type": "markdown",
      "source": "## Attention Folks!"
    },
    {
      "metadata": {
        "trusted": true,
        "_uuid": "f20e04511507f135ea0fa496a170e5e72ee32262"
      },
      "cell_type": "code",
      "source": "attention = get_model('attention')\nattention.summary()\nattention.compile(loss='binary_crossentropy', optimizer=Adam(lr=1e-3), metrics=['accuracy'])\nattention.fit(train_X, train_y, batch_size=512, epochs=1, validation_data=(val_X, val_y), callbacks=[earlystop, reducelr])\n\npredictions_attention = attention.predict(test_X)\npredictions = attention.predict(val_X, batch_size=1024)\nprint_f1s(predictions)\n\npredictions_attention = pd.DataFrame({\"qid\":test_set[\"qid\"].values})\npredictions_attention['prediction'] = predictions_attention\npredictions_attention.to_csv(\"submission_attention.csv\", index=False)\n\ndel attention\ngc.collect()\ntime.sleep(10)\n",
      "execution_count": 59,
      "outputs": [
        {
          "output_type": "stream",
          "text": "_________________________________________________________________\nLayer (type)                 Output Shape              Param #   \n=================================================================\ninput_17 (InputLayer)        (None, 70)                0         \n_________________________________________________________________\nembedding_17 (Embedding)     (None, 70, 300)           15000000  \n_________________________________________________________________\nbidirectional_15 (Bidirectio (None, 70, 256)           440320    \n_________________________________________________________________\nbidirectional_16 (Bidirectio (None, 70, 128)           164864    \n_________________________________________________________________\nattention_3 (Attention)      (None, 128)               198       \n_________________________________________________________________\ndense_27 (Dense)             (None, 64)                8256      \n_________________________________________________________________\ndropout_10 (Dropout)         (None, 64)                0         \n_________________________________________________________________\ndense_28 (Dense)             (None, 1)                 65        \n=================================================================\nTotal params: 15,613,703\nTrainable params: 613,703\nNon-trainable params: 15,000,000\n_________________________________________________________________\nTrain on 1044897 samples, validate on 261225 samples\nEpoch 1/1\n1044897/1044897 [==============================] - 327s 313us/step - loss: 0.1483 - acc: 0.9474 - val_loss: 0.1253 - val_acc: 0.9527\nF1 score at threshold 0.1 is 0.5330492152604188\nF1 score at threshold 0.11 is 0.5423455874562984\nF1 score at threshold 0.12 is 0.5507859338551091\nF1 score at threshold 0.13 is 0.5580156260493855\nF1 score at threshold 0.14 is 0.5645213083168953\nF1 score at threshold 0.15 is 0.5706839473128126\nF1 score at threshold 0.16 is 0.5758231194424417\nF1 score at threshold 0.17 is 0.5793993522426146\nF1 score at threshold 0.18 is 0.5837193579888325\nF1 score at threshold 0.19 is 0.5866102602003109\nF1 score at threshold 0.2 is 0.5897502331847859\nF1 score at threshold 0.21 is 0.5917985725196871\nF1 score at threshold 0.22 is 0.5931200642484272\nF1 score at threshold 0.23 is 0.5960124203301193\nF1 score at threshold 0.24 is 0.5963335829381258\nF1 score at threshold 0.25 is 0.5969392068994673\nF1 score at threshold 0.26 is 0.5976339835581908\nF1 score at threshold 0.27 is 0.5969592823440321\nF1 score at threshold 0.28 is 0.5956110995942784\nF1 score at threshold 0.29 is 0.5948597568315878\nF1 score at threshold 0.3 is 0.5928776495021685\nF1 score at threshold 0.31 is 0.5912730432623673\nF1 score at threshold 0.32 is 0.5890285786306204\nF1 score at threshold 0.33 is 0.5858527689797485\nF1 score at threshold 0.34 is 0.5839311800032462\nF1 score at threshold 0.35 is 0.5814183182985448\nF1 score at threshold 0.36 is 0.5776724943280395\nF1 score at threshold 0.37 is 0.5747701460248783\nF1 score at threshold 0.38 is 0.5713601204736807\nF1 score at threshold 0.39 is 0.5692414270869415\nF1 score at threshold 0.4 is 0.5646654509748913\nF1 score at threshold 0.41 is 0.5604317568527198\nF1 score at threshold 0.42 is 0.5575443893321831\nF1 score at threshold 0.43 is 0.5540285049447353\nF1 score at threshold 0.44 is 0.5481367030864879\nF1 score at threshold 0.45 is 0.5419191731419861\nF1 score at threshold 0.46 is 0.5373044524669073\nF1 score at threshold 0.47 is 0.5332927710385216\nF1 score at threshold 0.48 is 0.5250221520206496\nF1 score at threshold 0.49 is 0.5179289086581607\nF1 score at threshold 0.5 is 0.5126120080527374\n",
          "name": "stdout"
        }
      ]
    },
    {
      "metadata": {
        "_uuid": "df89a80cc460316a8eed38439808fa1b3bdab4fd"
      },
      "cell_type": "markdown",
      "source": "## Comparing All Performances"
    },
    {
      "metadata": {
        "trusted": true,
        "_uuid": "d1e7038168cb0b205235b7d97c8fb2d59e3a13ce"
      },
      "cell_type": "markdown",
      "source": "Score Obtained From Naive Bayes : <br />\nScore Obtained From SVM : <br />\nScore Obtained From Simple RNN : <br />\nScore Obtained From Bidirectional GRU : <br />\nScore Obtained From Bidirectional LSTM : <br />\nScore Obtained From Attention Model : <br />"
    },
    {
      "metadata": {
        "trusted": true,
        "_uuid": "b0d63dc9e0aae84a3571a76c2f7116a84fe1ebe7"
      },
      "cell_type": "code",
      "source": "",
      "execution_count": null,
      "outputs": []
    }
  ],
  "metadata": {
    "kernelspec": {
      "display_name": "Python 3",
      "language": "python",
      "name": "python3"
    }
  },
  "nbformat": 4,
  "nbformat_minor": 1
}